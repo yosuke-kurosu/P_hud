{
 "cells": [
  {
   "cell_type": "markdown",
   "metadata": {},
   "source": [
    "# 目的\n",
    "\n",
    "* bitflyerのデータが見つからないのでbitmex"
   ]
  },
  {
   "cell_type": "code",
   "execution_count": 1,
   "metadata": {},
   "outputs": [],
   "source": [
    "import os \n",
    "import sys \n",
    "import time\n",
    "import numpy as np\n",
    "import pandas as pd\n",
    "import matplotlib.pyplot as plt\n",
    "import talib\n",
    "import requests\n",
    "\n",
    "# 仮想通貨関連\n",
    "import ccxt\n",
    "import pybitflyer"
   ]
  },
  {
   "cell_type": "code",
   "execution_count": 2,
   "metadata": {},
   "outputs": [],
   "source": [
    "import datetime"
   ]
  },
  {
   "cell_type": "code",
   "execution_count": 4,
   "metadata": {},
   "outputs": [],
   "source": [
    "btc_url = \"https://api.cryptowat.ch/markets/bitmex/btcfxjpy/ohlc\"\n",
    "eth_url = \"https://api.cryptowat.ch/markets/bitflyer/ethjpy/ohlc\"\n",
    "\n",
    "hour = \"?periods=3600&after=1631718000\"\n",
    "day = \"?periods=86400&after=1617202800\"\n",
    "m = \"?periods=60&after=1617202800\""
   ]
  },
  {
   "cell_type": "code",
   "execution_count": 5,
   "metadata": {},
   "outputs": [],
   "source": [
    "res = requests.get(btc_url+m).json()"
   ]
  },
  {
   "cell_type": "code",
   "execution_count": 6,
   "metadata": {},
   "outputs": [
    {
     "data": {
      "text/plain": [
       "{'error': 'Market not found',\n",
       " 'allowance': {'cost': 0.015,\n",
       "  'remaining': 9.985,\n",
       "  'upgrade': 'For unlimited API access, create an account at https://cryptowat.ch'}}"
      ]
     },
     "execution_count": 6,
     "metadata": {},
     "output_type": "execute_result"
    }
   ],
   "source": [
    "res"
   ]
  },
  {
   "cell_type": "code",
   "execution_count": null,
   "metadata": {},
   "outputs": [],
   "source": [
    "df_columns = [\n",
    "    \"CloseTime\",\n",
    "    \"OpenPrice\",\n",
    "    \"HighPrice\",\n",
    "    \"LowPrice\",\n",
    "    \"ClosePrice\",\n",
    "    \"Volume\",\n",
    "    \"QuoteVolume\"\n",
    "]\n",
    "df = pd.DataFrame(res['result']['60'], columns=df_columns)"
   ]
  },
  {
   "cell_type": "code",
   "execution_count": 9,
   "metadata": {},
   "outputs": [],
   "source": [
    "import numpy as np\n",
    "import pandas as pd\n",
    "import math\n",
    "\n",
    "# ohlcに1ヶ月分の価格データを挿入\n",
    "ohlc_15m = pd.DataFrame()\n",
    "for i in range(1,32):\n",
    "    if i < 10:\n",
    "        url = \"https://public.bybit.com/spot_index/BTCUSD/BTCUSD2021-01-0{}_index_price.csv.gz\"\n",
    "    else:\n",
    "        url = \"https://public.bybit.com/spot_index/BTCUSD/BTCUSD2021-01-{}_index_price.csv.gz\"\n",
    "    if i == 1:\n",
    "        ohlc = pd.read_csv(url.format(str(i)))\n",
    "        continue\n",
    "    df = pd.DataFrame()\n",
    "    df = pd.read_csv(url.format(str(i)))\n",
    "    ohlc = pd.merge(ohlc,df,how='outer')\n",
    "# ohlc_15m['open'] = [ohlc['open'][15*i] for i in range(0,2880)]\n",
    "# ohlc_15m['high'] = [ohlc['high'][i*15:(i+1)*15].max() for i in range(0,2880)]\n",
    "# ohlc_15m['low'] = [ohlc['low'][i*15:(i+1)*15].min() for i in range(0,2880)]\n",
    "# ohlc_15m['close'] = [ohlc['close'][15*i-1] for i in range(1,2881)]\n",
    "# ohlc_15m.to_csv('data.csv',index=False)"
   ]
  },
  {
   "cell_type": "code",
   "execution_count": 10,
   "metadata": {
    "scrolled": true
   },
   "outputs": [
    {
     "data": {
      "text/html": [
       "<div>\n",
       "<style scoped>\n",
       "    .dataframe tbody tr th:only-of-type {\n",
       "        vertical-align: middle;\n",
       "    }\n",
       "\n",
       "    .dataframe tbody tr th {\n",
       "        vertical-align: top;\n",
       "    }\n",
       "\n",
       "    .dataframe thead th {\n",
       "        text-align: right;\n",
       "    }\n",
       "</style>\n",
       "<table border=\"1\" class=\"dataframe\">\n",
       "  <thead>\n",
       "    <tr style=\"text-align: right;\">\n",
       "      <th></th>\n",
       "      <th>start_at</th>\n",
       "      <th>symbol</th>\n",
       "      <th>period</th>\n",
       "      <th>open</th>\n",
       "      <th>high</th>\n",
       "      <th>low</th>\n",
       "      <th>close</th>\n",
       "    </tr>\n",
       "  </thead>\n",
       "  <tbody>\n",
       "    <tr>\n",
       "      <th>0</th>\n",
       "      <td>1609459200</td>\n",
       "      <td>BTCUSD</td>\n",
       "      <td>1</td>\n",
       "      <td>28980.96</td>\n",
       "      <td>29016.34</td>\n",
       "      <td>28973.31</td>\n",
       "      <td>29012.78</td>\n",
       "    </tr>\n",
       "    <tr>\n",
       "      <th>1</th>\n",
       "      <td>1609459260</td>\n",
       "      <td>BTCUSD</td>\n",
       "      <td>1</td>\n",
       "      <td>29012.78</td>\n",
       "      <td>29079.49</td>\n",
       "      <td>29010.20</td>\n",
       "      <td>29078.67</td>\n",
       "    </tr>\n",
       "    <tr>\n",
       "      <th>2</th>\n",
       "      <td>1609459320</td>\n",
       "      <td>BTCUSD</td>\n",
       "      <td>1</td>\n",
       "      <td>29078.67</td>\n",
       "      <td>29078.67</td>\n",
       "      <td>29028.37</td>\n",
       "      <td>29040.91</td>\n",
       "    </tr>\n",
       "    <tr>\n",
       "      <th>3</th>\n",
       "      <td>1609459380</td>\n",
       "      <td>BTCUSD</td>\n",
       "      <td>1</td>\n",
       "      <td>29040.91</td>\n",
       "      <td>29048.93</td>\n",
       "      <td>29023.89</td>\n",
       "      <td>29042.20</td>\n",
       "    </tr>\n",
       "    <tr>\n",
       "      <th>4</th>\n",
       "      <td>1609459440</td>\n",
       "      <td>BTCUSD</td>\n",
       "      <td>1</td>\n",
       "      <td>29042.20</td>\n",
       "      <td>29043.30</td>\n",
       "      <td>29028.93</td>\n",
       "      <td>29034.69</td>\n",
       "    </tr>\n",
       "    <tr>\n",
       "      <th>...</th>\n",
       "      <td>...</td>\n",
       "      <td>...</td>\n",
       "      <td>...</td>\n",
       "      <td>...</td>\n",
       "      <td>...</td>\n",
       "      <td>...</td>\n",
       "      <td>...</td>\n",
       "    </tr>\n",
       "    <tr>\n",
       "      <th>44635</th>\n",
       "      <td>1612137300</td>\n",
       "      <td>BTCUSD</td>\n",
       "      <td>1</td>\n",
       "      <td>33201.99</td>\n",
       "      <td>33258.54</td>\n",
       "      <td>33201.99</td>\n",
       "      <td>33250.84</td>\n",
       "    </tr>\n",
       "    <tr>\n",
       "      <th>44636</th>\n",
       "      <td>1612137360</td>\n",
       "      <td>BTCUSD</td>\n",
       "      <td>1</td>\n",
       "      <td>33250.84</td>\n",
       "      <td>33264.21</td>\n",
       "      <td>33127.96</td>\n",
       "      <td>33146.06</td>\n",
       "    </tr>\n",
       "    <tr>\n",
       "      <th>44637</th>\n",
       "      <td>1612137420</td>\n",
       "      <td>BTCUSD</td>\n",
       "      <td>1</td>\n",
       "      <td>33146.06</td>\n",
       "      <td>33146.06</td>\n",
       "      <td>33091.12</td>\n",
       "      <td>33093.51</td>\n",
       "    </tr>\n",
       "    <tr>\n",
       "      <th>44638</th>\n",
       "      <td>1612137480</td>\n",
       "      <td>BTCUSD</td>\n",
       "      <td>1</td>\n",
       "      <td>33093.51</td>\n",
       "      <td>33143.15</td>\n",
       "      <td>33093.51</td>\n",
       "      <td>33128.93</td>\n",
       "    </tr>\n",
       "    <tr>\n",
       "      <th>44639</th>\n",
       "      <td>1612137540</td>\n",
       "      <td>BTCUSD</td>\n",
       "      <td>1</td>\n",
       "      <td>33128.93</td>\n",
       "      <td>33150.85</td>\n",
       "      <td>33122.32</td>\n",
       "      <td>33140.84</td>\n",
       "    </tr>\n",
       "  </tbody>\n",
       "</table>\n",
       "<p>44640 rows × 7 columns</p>\n",
       "</div>"
      ],
      "text/plain": [
       "         start_at  symbol  period      open      high       low     close\n",
       "0      1609459200  BTCUSD       1  28980.96  29016.34  28973.31  29012.78\n",
       "1      1609459260  BTCUSD       1  29012.78  29079.49  29010.20  29078.67\n",
       "2      1609459320  BTCUSD       1  29078.67  29078.67  29028.37  29040.91\n",
       "3      1609459380  BTCUSD       1  29040.91  29048.93  29023.89  29042.20\n",
       "4      1609459440  BTCUSD       1  29042.20  29043.30  29028.93  29034.69\n",
       "...           ...     ...     ...       ...       ...       ...       ...\n",
       "44635  1612137300  BTCUSD       1  33201.99  33258.54  33201.99  33250.84\n",
       "44636  1612137360  BTCUSD       1  33250.84  33264.21  33127.96  33146.06\n",
       "44637  1612137420  BTCUSD       1  33146.06  33146.06  33091.12  33093.51\n",
       "44638  1612137480  BTCUSD       1  33093.51  33143.15  33093.51  33128.93\n",
       "44639  1612137540  BTCUSD       1  33128.93  33150.85  33122.32  33140.84\n",
       "\n",
       "[44640 rows x 7 columns]"
      ]
     },
     "execution_count": 10,
     "metadata": {},
     "output_type": "execute_result"
    }
   ],
   "source": [
    "ohlc"
   ]
  },
  {
   "cell_type": "markdown",
   "metadata": {},
   "source": [
    "--> とりあえずbybitのUSDデータから始める"
   ]
  },
  {
   "cell_type": "markdown",
   "metadata": {},
   "source": [
    "richmanbtcの関数も使ってみる。"
   ]
  },
  {
   "cell_type": "code",
   "execution_count": null,
   "metadata": {},
   "outputs": [],
   "source": []
  }
 ],
 "metadata": {
  "kernelspec": {
   "display_name": "Python 3",
   "language": "python",
   "name": "python3"
  },
  "language_info": {
   "codemirror_mode": {
    "name": "ipython",
    "version": 3
   },
   "file_extension": ".py",
   "mimetype": "text/x-python",
   "name": "python",
   "nbconvert_exporter": "python",
   "pygments_lexer": "ipython3",
   "version": "3.8.12"
  }
 },
 "nbformat": 4,
 "nbformat_minor": 4
}
