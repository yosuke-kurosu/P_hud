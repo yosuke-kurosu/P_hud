{
 "cells": [
  {
   "cell_type": "markdown",
   "metadata": {},
   "source": [
    "# 目的\n",
    "\n",
    "- apiを叩いて仮想通貨の取引ができるか"
   ]
  },
  {
   "cell_type": "code",
   "execution_count": 21,
   "metadata": {},
   "outputs": [],
   "source": [
    "import os \n",
    "import sys \n",
    "import time\n",
    "import pybitflyer\n",
    "import numpy as np\n"
   ]
  },
  {
   "cell_type": "code",
   "execution_count": 1,
   "metadata": {},
   "outputs": [],
   "source": [
    "# ここのハードコーディング危険\n",
    "api_key = '82BLyXP8xgK2JLjsKFMajV'\n",
    "api_secret = 'uYu8qv+y9F7EBjzhfa2kitidpVfdyH4/riCopxQho+k='"
   ]
  },
  {
   "cell_type": "code",
   "execution_count": 4,
   "metadata": {
    "scrolled": true
   },
   "outputs": [
    {
     "name": "stdout",
     "output_type": "stream",
     "text": [
      "\u001b[33mDEPRECATION: Configuring installation scheme with distutils config files is deprecated and will no longer work in the near future. If you are using a Homebrew or Linuxbrew Python, please see discussion at https://github.com/Homebrew/homebrew-core/issues/76621\u001b[0m\n",
      "Collecting pybitflyer\n",
      "  Downloading pybitflyer-0.1.9.tar.gz (7.0 kB)\n",
      "Requirement already satisfied: requests in /usr/local/lib/python3.8/site-packages (from pybitflyer) (2.24.0)\n",
      "Requirement already satisfied: chardet<4,>=3.0.2 in /usr/local/lib/python3.8/site-packages (from requests->pybitflyer) (3.0.4)\n",
      "Requirement already satisfied: idna<3,>=2.5 in /usr/local/lib/python3.8/site-packages (from requests->pybitflyer) (2.10)\n",
      "Requirement already satisfied: certifi>=2017.4.17 in /usr/local/lib/python3.8/site-packages (from requests->pybitflyer) (2020.6.20)\n",
      "Requirement already satisfied: urllib3!=1.25.0,!=1.25.1,<1.26,>=1.21.1 in /usr/local/lib/python3.8/site-packages (from requests->pybitflyer) (1.25.10)\n",
      "Building wheels for collected packages: pybitflyer\n",
      "  Building wheel for pybitflyer (setup.py) ... \u001b[?25ldone\n",
      "\u001b[?25h  Created wheel for pybitflyer: filename=pybitflyer-0.1.9-py3-none-any.whl size=7045 sha256=e07a099a15aff703541bb25cd8a2763d0c5ee16ab490ac12a6000eefeb27b404\n",
      "  Stored in directory: /Users/yosuke-kurosu/Library/Caches/pip/wheels/f1/d5/20/f240c2a848ffeb77960f8555a84e69897128150956ec9c209c\n",
      "Successfully built pybitflyer\n",
      "Installing collected packages: pybitflyer\n",
      "\u001b[33m  DEPRECATION: Configuring installation scheme with distutils config files is deprecated and will no longer work in the near future. If you are using a Homebrew or Linuxbrew Python, please see discussion at https://github.com/Homebrew/homebrew-core/issues/76621\u001b[0m\n",
      "\u001b[33mDEPRECATION: Configuring installation scheme with distutils config files is deprecated and will no longer work in the near future. If you are using a Homebrew or Linuxbrew Python, please see discussion at https://github.com/Homebrew/homebrew-core/issues/76621\u001b[0m\n",
      "Successfully installed pybitflyer-0.1.9\n"
     ]
    }
   ],
   "source": [
    "!pip3 install pybitflyer"
   ]
  },
  {
   "cell_type": "code",
   "execution_count": 7,
   "metadata": {},
   "outputs": [],
   "source": [
    "api = pybitflyer.API(api_key=api_key, api_secret=api_secret)"
   ]
  },
  {
   "cell_type": "code",
   "execution_count": 8,
   "metadata": {},
   "outputs": [
    {
     "name": "stdout",
     "output_type": "stream",
     "text": [
      "bot開始時の価格は5852000.0です。\n"
     ]
    }
   ],
   "source": [
    "base_price = api.ticker(product_code=\"BTC_JPY\")[\"ltp\"]\n",
    "print(\"bot開始時の価格は\"+str(base_price)+\"です。\")"
   ]
  },
  {
   "cell_type": "code",
   "execution_count": 13,
   "metadata": {},
   "outputs": [
    {
     "data": {
      "text/plain": [
       "5852.0"
      ]
     },
     "execution_count": 13,
     "metadata": {},
     "output_type": "execute_result"
    }
   ],
   "source": [
    "5852000 * 0.001"
   ]
  },
  {
   "cell_type": "code",
   "execution_count": 14,
   "metadata": {},
   "outputs": [
    {
     "data": {
      "text/plain": [
       "{'child_order_acceptance_id': 'JRF20211224-135202-006627'}"
      ]
     },
     "execution_count": 14,
     "metadata": {},
     "output_type": "execute_result"
    }
   ],
   "source": [
    "api.sendchildorder(product_code=\"BTC_JPY\",child_order_type=\"MARKET\",side=\"BUY\",size=0.001,minute_to_expire=1,time_in_force=\"GTC\")"
   ]
  },
  {
   "cell_type": "code",
   "execution_count": 19,
   "metadata": {},
   "outputs": [
    {
     "name": "stdout",
     "output_type": "stream",
     "text": [
      "5844866.0\n"
     ]
    }
   ],
   "source": [
    "base_price = api.ticker(product_code=\"BTC_JPY\")[\"ltp\"]\n",
    "print(base_price)"
   ]
  },
  {
   "cell_type": "code",
   "execution_count": 23,
   "metadata": {
    "scrolled": true
   },
   "outputs": [
    {
     "name": "stdout",
     "output_type": "stream",
     "text": [
      "5844183.0\n",
      "5844183.0\n",
      "5844183.0\n",
      "5844183.0\n",
      "5844183.0\n",
      "5840335.0\n",
      "5840335.0\n",
      "5840335.0\n",
      "5840335.0\n",
      "5842222.0\n",
      "5842222.0\n",
      "5842222.0\n",
      "5842222.0\n",
      "5842222.0\n",
      "5842222.0\n",
      "5842222.0\n",
      "5842229.0\n",
      "5842229.0\n",
      "5844610.0\n",
      "5843513.0\n",
      "5843513.0\n",
      "5843509.0\n",
      "5843509.0\n",
      "5846947.0\n",
      "5846947.0\n",
      "5846947.0\n",
      "5846926.0\n",
      "5846930.0\n",
      "5846930.0\n",
      "5846930.0\n",
      "5846930.0\n",
      "5850252.0\n",
      "売り注文を出します\n"
     ]
    }
   ],
   "source": [
    "while True:\n",
    "    time.sleep(5)\n",
    "    base_price = api.ticker(product_code=\"BTC_JPY\")[\"ltp\"]\n",
    "    print(base_price)\n",
    "    if base_price >= 5848074:\n",
    "        print(\"売り注文を出します\")\n",
    "        api.sendchildorder(product_code=\"BTC_JPY\",child_order_type=\"MARKET\",side=\"SELL\",size=0.001,minute_to_expire=1,time_in_force=\"GTC\")\n",
    "        break;"
   ]
  },
  {
   "cell_type": "code",
   "execution_count": null,
   "metadata": {},
   "outputs": [],
   "source": [
    "api.sendchildorder(product_cder_type=\"MARKET\",side=\"SELL\",size=0.001,minute_to_expire=1,time_in_force=\"GTC\")ode=\"BTC_JPY\",child_or"
   ]
  },
  {
   "cell_type": "code",
   "execution_count": 24,
   "metadata": {},
   "outputs": [
    {
     "data": {
      "text/plain": [
       "8.775378"
      ]
     },
     "execution_count": 24,
     "metadata": {},
     "output_type": "execute_result"
    }
   ],
   "source": [
    "0.0000015*5850252"
   ]
  },
  {
   "cell_type": "code",
   "execution_count": 30,
   "metadata": {},
   "outputs": [],
   "source": [
    "kai = 5843337 * 0.01\n",
    "uri = 5848236 * 0.01"
   ]
  },
  {
   "cell_type": "code",
   "execution_count": 31,
   "metadata": {},
   "outputs": [
    {
     "data": {
      "text/plain": [
       "48.98999999999796"
      ]
     },
     "execution_count": 31,
     "metadata": {},
     "output_type": "execute_result"
    }
   ],
   "source": [
    "uri - kai"
   ]
  }
 ],
 "metadata": {
  "kernelspec": {
   "display_name": "Python 3",
   "language": "python",
   "name": "python3"
  },
  "language_info": {
   "codemirror_mode": {
    "name": "ipython",
    "version": 3
   },
   "file_extension": ".py",
   "mimetype": "text/x-python",
   "name": "python",
   "nbconvert_exporter": "python",
   "pygments_lexer": "ipython3",
   "version": "3.8.12"
  }
 },
 "nbformat": 4,
 "nbformat_minor": 4
}
